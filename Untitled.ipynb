{
 "cells": [
  {
   "cell_type": "code",
   "execution_count": 1,
   "id": "959bd32c-2e26-47a0-8c72-891e4fcd7178",
   "metadata": {},
   "outputs": [],
   "source": [
    "from donut_sims import SimsToButler\n",
    "import matplotlib.pyplot as plt\n",
    "import numpy as np"
   ]
  },
  {
   "cell_type": "code",
   "execution_count": 2,
   "id": "1ce29dad-92c2-457e-a69d-660786dd822e",
   "metadata": {},
   "outputs": [],
   "source": [
    "stb = SimsToButler()\n",
    "butler = stb.butler\n",
    "registry = stb.registry"
   ]
  },
  {
   "cell_type": "code",
   "execution_count": 99,
   "id": "50eef8b8-6e10-4187-b72a-d157b1a3a5f6",
   "metadata": {},
   "outputs": [],
   "source": [
    "extraStampsRefs = list(registry.queryDatasets(datasetType=\"donutStampsExtra\", collections=[\"mlStamps\"]))\n",
    "\n",
    "for extraStampsRef in extraStampsRefs:\n",
    "    name = list(registry.queryDimensionRecords(\"visit\", dataId=extraStampsRef.dataId))[0].name\n",
    "    extraStamps = butler.get(\"donutStampsExtra\", dataId=extraStampsRef.dataId, collections=\"mlStamps\")"
   ]
  },
  {
   "cell_type": "code",
   "execution_count": 100,
   "id": "8c237a88-7297-4cd1-976d-a4cd8240478a",
   "metadata": {},
   "outputs": [
    {
     "name": "stdout",
     "output_type": "stream",
     "text": [
      "seed=0\n",
      "seed=0\n",
      "seed=0\n",
      "seed=0\n",
      "seed=1\n",
      "seed=1\n",
      "seed=1\n",
      "seed=1\n",
      "seed=2\n",
      "seed=2\n",
      "seed=2\n",
      "seed=2\n",
      "seed=3\n",
      "seed=3\n",
      "seed=3\n",
      "seed=3\n",
      "seed=4\n",
      "seed=4\n",
      "seed=4\n",
      "seed=4\n",
      "seed=5\n",
      "seed=5\n",
      "seed=5\n",
      "seed=5\n",
      "seed=6\n",
      "seed=6\n",
      "seed=6\n",
      "seed=6\n",
      "seed=7\n",
      "seed=7\n",
      "seed=7\n",
      "seed=7\n",
      "seed=8\n",
      "seed=8\n",
      "seed=8\n",
      "seed=8\n",
      "seed=9\n",
      "seed=9\n",
      "seed=9\n",
      "seed=9\n",
      "seed=10\n",
      "seed=10\n",
      "seed=10\n",
      "seed=10\n",
      "seed=11\n",
      "seed=11\n",
      "seed=11\n",
      "seed=11\n",
      "seed=12\n",
      "seed=12\n",
      "seed=12\n",
      "seed=12\n",
      "seed=13\n",
      "seed=13\n",
      "seed=13\n",
      "seed=13\n",
      "seed=14\n",
      "seed=14\n",
      "seed=14\n",
      "seed=14\n",
      "seed=15\n",
      "seed=15\n",
      "seed=15\n",
      "seed=15\n",
      "seed=16\n",
      "seed=16\n",
      "seed=16\n",
      "seed=16\n",
      "seed=17\n",
      "seed=17\n",
      "seed=17\n",
      "seed=17\n",
      "seed=18\n",
      "seed=18\n",
      "seed=18\n",
      "seed=18\n",
      "seed=19\n",
      "seed=19\n",
      "seed=19\n",
      "seed=20\n",
      "seed=20\n",
      "seed=20\n",
      "seed=20\n",
      "seed=21\n",
      "seed=21\n",
      "seed=21\n",
      "seed=21\n",
      "seed=22\n",
      "seed=22\n",
      "seed=22\n",
      "seed=22\n",
      "seed=23\n",
      "seed=23\n",
      "seed=23\n",
      "seed=23\n",
      "seed=24\n",
      "seed=24\n",
      "seed=24\n",
      "seed=24\n",
      "seed=25\n",
      "seed=25\n",
      "seed=25\n",
      "seed=25\n",
      "seed=26\n",
      "seed=26\n",
      "seed=26\n",
      "seed=26\n"
     ]
    }
   ],
   "source": [
    "intraStampsRefs = list(registry.queryDatasets(datasetType=\"donutStampsIntra\", collections=[\"mlStamps\"]))\n",
    "\n",
    "for intraStampsRef in intraStampsRefs:\n",
    "    name = list(registry.queryDimensionRecords(\"visit\", dataId=intraStampsRef.dataId))[0].name\n",
    "    print(name)\n",
    "    #intraStamps = butler.get(\"donutStampsIntra\", dataId=intraStampsRef.dataId, collections=\"mlStamps\")"
   ]
  },
  {
   "cell_type": "code",
   "execution_count": 75,
   "id": "026f7647-dc34-40ab-82f3-d1782d019074",
   "metadata": {},
   "outputs": [],
   "source": [
    "d = list(registry.queryDatasets(datasetType=\"donutStampsExtra\", collections=[\"mlStamps\"]))[0]"
   ]
  },
  {
   "cell_type": "code",
   "execution_count": 96,
   "id": "25515c1e-192b-4881-81be-788d03a44afd",
   "metadata": {},
   "outputs": [
    {
     "data": {
      "text/html": [
       "<pre>visit:\n",
       "  instrument: 'LSSTCam'\n",
       "  id: 834463\n",
       "  physical_filter: 'z'\n",
       "  visit_system: None\n",
       "  name: 'seed=0'\n",
       "  day_obs: None\n",
       "  exposure_time: None\n",
       "  target_name: None\n",
       "  observation_reason: None\n",
       "  science_program: None\n",
       "  zenith_angle: None\n",
       "  region: None\n",
       "  timespan: Timespan(begin=None, end=None)<pre>"
      ],
      "text/plain": [
       "visit.RecordClass(instrument='LSSTCam', id=834463, physical_filter='z', visit_system=None, name='seed=0', day_obs=None, exposure_time=None, target_name=None, observation_reason=None, science_program=None, zenith_angle=None, region=None, timespan=Timespan(begin=None, end=None))"
      ]
     },
     "execution_count": 96,
     "metadata": {},
     "output_type": "execute_result"
    }
   ],
   "source": [
    "list(registry.queryDimensionRecords(\"visit\", dataId=d.dataId))[0]"
   ]
  },
  {
   "cell_type": "code",
   "execution_count": 81,
   "id": "ab5d020d-cff9-4559-8ee0-ca6ca06d7416",
   "metadata": {},
   "outputs": [
    {
     "data": {
      "text/plain": [
       "['__abstractmethods__',\n",
       " '__annotations__',\n",
       " '__class__',\n",
       " '__delattr__',\n",
       " '__dict__',\n",
       " '__dir__',\n",
       " '__doc__',\n",
       " '__eq__',\n",
       " '__format__',\n",
       " '__ge__',\n",
       " '__getattribute__',\n",
       " '__gt__',\n",
       " '__hash__',\n",
       " '__init__',\n",
       " '__init_subclass__',\n",
       " '__le__',\n",
       " '__lt__',\n",
       " '__module__',\n",
       " '__ne__',\n",
       " '__new__',\n",
       " '__reduce__',\n",
       " '__reduce_ex__',\n",
       " '__repr__',\n",
       " '__setattr__',\n",
       " '__sizeof__',\n",
       " '__slots__',\n",
       " '__str__',\n",
       " '__subclasshook__',\n",
       " '__weakref__',\n",
       " '_abc_impl',\n",
       " '_db',\n",
       " '_defaults',\n",
       " '_get_collection_record',\n",
       " '_importDatasets',\n",
       " '_makeQueryBuilder',\n",
       " '_managers',\n",
       " 'associate',\n",
       " 'certify',\n",
       " 'copy',\n",
       " 'createFromConfig',\n",
       " 'decertify',\n",
       " 'defaultConfigFile',\n",
       " 'defaults',\n",
       " 'deleteOpaqueData',\n",
       " 'determineTrampoline',\n",
       " 'dimensions',\n",
       " 'disassociate',\n",
       " 'expandDataId',\n",
       " 'fetchOpaqueData',\n",
       " 'findDataset',\n",
       " 'forceRegistryConfig',\n",
       " 'fromConfig',\n",
       " 'getCollectionChain',\n",
       " 'getCollectionDocumentation',\n",
       " 'getCollectionParentChains',\n",
       " 'getCollectionSummary',\n",
       " 'getCollectionType',\n",
       " 'getDataset',\n",
       " 'getDatasetLocations',\n",
       " 'getDatasetType',\n",
       " 'getDatastoreBridgeManager',\n",
       " 'insertDatasets',\n",
       " 'insertDimensionData',\n",
       " 'insertOpaqueData',\n",
       " 'isWriteable',\n",
       " 'queryCollections',\n",
       " 'queryDataIds',\n",
       " 'queryDatasetAssociations',\n",
       " 'queryDatasetTypes',\n",
       " 'queryDatasets',\n",
       " 'queryDimensionRecords',\n",
       " 'refresh',\n",
       " 'registerCollection',\n",
       " 'registerDatasetType',\n",
       " 'registerOpaqueTable',\n",
       " 'registerRun',\n",
       " 'removeCollection',\n",
       " 'removeDatasetType',\n",
       " 'removeDatasets',\n",
       " 'resetConnectionPool',\n",
       " 'setCollectionChain',\n",
       " 'setCollectionDocumentation',\n",
       " 'storageClasses',\n",
       " 'supportsIdGenerationMode',\n",
       " 'syncDimensionData',\n",
       " 'transaction']"
      ]
     },
     "execution_count": 81,
     "metadata": {},
     "output_type": "execute_result"
    }
   ],
   "source": [
    "dir(registry)"
   ]
  },
  {
   "cell_type": "code",
   "execution_count": 78,
   "id": "dedc7b59-509d-4e9c-961d-db17ed2e63f6",
   "metadata": {},
   "outputs": [],
   "source": [
    "stamps = butler.get(\"donutStampsExtra\", dataId=d.dataId, collections=\"mlStamps\")"
   ]
  },
  {
   "cell_type": "code",
   "execution_count": 80,
   "id": "99733d60-abfc-4733-84ee-2b4b62c12e10",
   "metadata": {},
   "outputs": [
    {
     "data": {
      "text/plain": [
       "['__abstractmethods__',\n",
       " '__class__',\n",
       " '__contains__',\n",
       " '__delattr__',\n",
       " '__dict__',\n",
       " '__dir__',\n",
       " '__doc__',\n",
       " '__eq__',\n",
       " '__format__',\n",
       " '__ge__',\n",
       " '__getattribute__',\n",
       " '__getitem__',\n",
       " '__gt__',\n",
       " '__hash__',\n",
       " '__init__',\n",
       " '__init_subclass__',\n",
       " '__iter__',\n",
       " '__le__',\n",
       " '__len__',\n",
       " '__lt__',\n",
       " '__module__',\n",
       " '__ne__',\n",
       " '__new__',\n",
       " '__reduce__',\n",
       " '__reduce_ex__',\n",
       " '__repr__',\n",
       " '__reversed__',\n",
       " '__setattr__',\n",
       " '__sizeof__',\n",
       " '__slots__',\n",
       " '__str__',\n",
       " '__subclasshook__',\n",
       " '__weakref__',\n",
       " '_abc_impl',\n",
       " '_metadata',\n",
       " '_refresh_metadata',\n",
       " '_stamps',\n",
       " 'append',\n",
       " 'count',\n",
       " 'extend',\n",
       " 'getArchiveElements',\n",
       " 'getCameraNames',\n",
       " 'getCentroidPositions',\n",
       " 'getDefocalTypes',\n",
       " 'getDetectorNames',\n",
       " 'getMaskedImages',\n",
       " 'getSkyPositions',\n",
       " 'getXY0Positions',\n",
       " 'index',\n",
       " 'metadata',\n",
       " 'readFits',\n",
       " 'readFitsWithOptions',\n",
       " 'use_archive',\n",
       " 'use_mask',\n",
       " 'use_variance',\n",
       " 'writeFits']"
      ]
     },
     "execution_count": 80,
     "metadata": {},
     "output_type": "execute_result"
    }
   ],
   "source": [
    "dir(stamps)"
   ]
  },
  {
   "cell_type": "code",
   "execution_count": 64,
   "id": "5c8dbd44-cec4-4f29-b9a4-6b8e2f162790",
   "metadata": {},
   "outputs": [
    {
     "data": {
      "text/plain": [
       "'{\"id\": 23, \"datasetType\": {\"name\": \"zernikeEstimateAvg\", \"storageClass\": \"NumpyArray\", \"dimensions\": {\"names\": [\"band\", \"instrument\", \"detector\", \"physical_filter\", \"visit_system\", \"visit\"]}}, \"dataId\": {\"dataId\": {\"band\": \"z\", \"instrument\": \"LSSTCam\", \"detector\": 191, \"physical_filter\": \"z\", \"visit_system\": null, \"visit\": 834463}}, \"run\": \"mlStamps\"}'"
      ]
     },
     "execution_count": 64,
     "metadata": {},
     "output_type": "execute_result"
    }
   ],
   "source": [
    "d.to_json()"
   ]
  },
  {
   "cell_type": "code",
   "execution_count": 52,
   "id": "1eb59563-7d32-40a0-a76b-4d43e6432b21",
   "metadata": {},
   "outputs": [
    {
     "data": {
      "text/plain": [
       "26.5"
      ]
     },
     "execution_count": 52,
     "metadata": {},
     "output_type": "execute_result"
    }
   ],
   "source": [
    "len(list(registry.queryDatasets(datasetType=\"zernikeEstimateAvg\", collections=[\"mlStamps\"]))) / 8"
   ]
  },
  {
   "cell_type": "code",
   "execution_count": 4,
   "id": "dad9ddf8-b14e-47c2-bca2-9d955d1e1c55",
   "metadata": {},
   "outputs": [
    {
     "data": {
      "text/plain": [
       "[DatasetRef(DatasetType('donutStampsIntra', {band, instrument, detector, physical_filter, visit_system, visit}, StampsBase), {instrument: 'LSSTCam', detector: 190, visit: 834463, ...}, id=24, run='mlStamps'),\n",
       " DatasetRef(DatasetType('donutStampsIntra', {band, instrument, detector, physical_filter, visit_system, visit}, StampsBase), {instrument: 'LSSTCam', detector: 194, visit: 834463, ...}, id=28, run='mlStamps'),\n",
       " DatasetRef(DatasetType('donutStampsIntra', {band, instrument, detector, physical_filter, visit_system, visit}, StampsBase), {instrument: 'LSSTCam', detector: 200, visit: 834463, ...}, id=32, run='mlStamps'),\n",
       " DatasetRef(DatasetType('donutStampsIntra', {band, instrument, detector, physical_filter, visit_system, visit}, StampsBase), {instrument: 'LSSTCam', detector: 204, visit: 834463, ...}, id=36, run='mlStamps')]"
      ]
     },
     "execution_count": 4,
     "metadata": {},
     "output_type": "execute_result"
    }
   ],
   "source": [
    "list(registry.queryDatasets(datasetType=\"donutStampsIntra\", collections=[\"mlStamps\"]))"
   ]
  },
  {
   "cell_type": "code",
   "execution_count": 5,
   "id": "b1a50604-4968-4b19-8c6e-a3dd6ec9434e",
   "metadata": {},
   "outputs": [
    {
     "data": {
      "text/plain": [
       "[DatasetRef(DatasetType('donutStampsExtra', {band, instrument, detector, physical_filter, visit_system, visit}, StampsBase), {instrument: 'LSSTCam', detector: 191, visit: 834463, ...}, id=22, run='mlStamps'),\n",
       " DatasetRef(DatasetType('donutStampsExtra', {band, instrument, detector, physical_filter, visit_system, visit}, StampsBase), {instrument: 'LSSTCam', detector: 195, visit: 834463, ...}, id=26, run='mlStamps'),\n",
       " DatasetRef(DatasetType('donutStampsExtra', {band, instrument, detector, physical_filter, visit_system, visit}, StampsBase), {instrument: 'LSSTCam', detector: 199, visit: 834463, ...}, id=30, run='mlStamps'),\n",
       " DatasetRef(DatasetType('donutStampsExtra', {band, instrument, detector, physical_filter, visit_system, visit}, StampsBase), {instrument: 'LSSTCam', detector: 203, visit: 834463, ...}, id=34, run='mlStamps')]"
      ]
     },
     "execution_count": 5,
     "metadata": {},
     "output_type": "execute_result"
    }
   ],
   "source": [
    "list(registry.queryDatasets(datasetType=\"donutStampsExtra\", collections=[\"mlStamps\"]))"
   ]
  },
  {
   "cell_type": "code",
   "execution_count": 34,
   "id": "9dea8caf-12b7-4fd7-a647-d60762de6c85",
   "metadata": {},
   "outputs": [],
   "source": [
    "idx = 3\n",
    "visit = list(registry.queryDatasets(datasetType=\"donutStampsExtra\", collections=[\"mlStamps\"]))[idx].dataId[\"visit\"]\n",
    "physical_filter = list(registry.queryDatasets(datasetType=\"donutStampsExtra\", collections=[\"mlStamps\"]))[idx].dataId[\"physical_filter\"]\n",
    "detector = list(registry.queryDatasets(datasetType=\"donutStampsExtra\", collections=[\"mlStamps\"]))[idx].dataId[\"detector\"]"
   ]
  },
  {
   "cell_type": "code",
   "execution_count": 35,
   "id": "92745120-6cf7-4027-b22d-2e9ccaa0a73d",
   "metadata": {},
   "outputs": [],
   "source": [
    "dataId = {\"instrument\": \"LSSTCam\", \"physical_filter\": physical_filter, \"visit\": visit, \"detector\": detector}"
   ]
  },
  {
   "cell_type": "code",
   "execution_count": 36,
   "id": "d07c24a9-3874-4fff-aa42-3db926b40ff8",
   "metadata": {},
   "outputs": [
    {
     "data": {
      "image/png": "[encoded data removed]",
      "text/plain": [
       "<Figure size 216x216 with 8 Axes>"
      ]
     },
     "metadata": {},
     "output_type": "display_data"
    }
   ],
   "source": [
    "stamps = butler.get(\"donutStampsExtra\", dataId=dataId, collections=\"mlStamps\")\n",
    "\n",
    "nrows = np.ceil(len(stamps) / 3).astype(int)\n",
    "fig, axes = plt.subplots(nrows, 3, figsize=(3, nrows), constrained_layout=True)\n",
    "\n",
    "for ax, stamp in zip(axes.flatten(), stamps):\n",
    "    ax.imshow(stamp.stamp_im.image.array)\n",
    "    ax.set(xticks=[], yticks=[])\n",
    "\n",
    "for ax in axes.flatten()[len(stamps):]:\n",
    "    ax.remove()"
   ]
  },
  {
   "cell_type": "code",
   "execution_count": 9,
   "id": "7ef7beef-31a3-4a11-8a78-a2e5de0ee060",
   "metadata": {},
   "outputs": [
    {
     "data": {
      "text/plain": [
       "[<matplotlib.lines.Line2D at 0x7fdba3b88100>]"
      ]
     },
     "execution_count": 9,
     "metadata": {},
     "output_type": "execute_result"
    },
    {
     "data": {
      "image/png": "[encoded data removed]",
      "text/plain": [
       "<Figure size 432x288 with 1 Axes>"
      ]
     },
     "metadata": {
      "needs_background": "light"
     },
     "output_type": "display_data"
    }
   ],
   "source": [
    "plt.plot(butler.get(\"zernikeEstimateAvg\", dataId=dataId, collections=\"mlStamps\"))"
   ]
  },
  {
   "cell_type": "code",
   "execution_count": 3,
   "id": "9b1b3e82-a662-45e6-bf69-63debd3fe017",
   "metadata": {},
   "outputs": [
    {
     "data": {
      "text/plain": [
       "['GENERATION',\n",
       " '__abstractmethods__',\n",
       " '__annotations__',\n",
       " '__class__',\n",
       " '__delattr__',\n",
       " '__dict__',\n",
       " '__dir__',\n",
       " '__doc__',\n",
       " '__eq__',\n",
       " '__format__',\n",
       " '__ge__',\n",
       " '__getattribute__',\n",
       " '__gt__',\n",
       " '__hash__',\n",
       " '__init__',\n",
       " '__init_subclass__',\n",
       " '__le__',\n",
       " '__lt__',\n",
       " '__module__',\n",
       " '__ne__',\n",
       " '__new__',\n",
       " '__reduce__',\n",
       " '__reduce_ex__',\n",
       " '__repr__',\n",
       " '__setattr__',\n",
       " '__sizeof__',\n",
       " '__slots__',\n",
       " '__str__',\n",
       " '__subclasshook__',\n",
       " '__weakref__',\n",
       " '_abc_impl',\n",
       " '_allow_put_of_predefined_dataset',\n",
       " '_config',\n",
       " '_findDatasetRef',\n",
       " '_rewrite_data_id',\n",
       " '_standardizeArgs',\n",
       " '_unpickle',\n",
       " 'collections',\n",
       " 'datasetExists',\n",
       " 'datasetExistsDirect',\n",
       " 'datastore',\n",
       " 'dimensions',\n",
       " 'export',\n",
       " 'get',\n",
       " 'getDeferred',\n",
       " 'getDirect',\n",
       " 'getDirectDeferred',\n",
       " 'getURI',\n",
       " 'getURIs',\n",
       " 'get_known_repos',\n",
       " 'get_repo_uri',\n",
       " 'import_',\n",
       " 'ingest',\n",
       " 'isWriteable',\n",
       " 'makeRepo',\n",
       " 'markInputUnused',\n",
       " 'pruneCollection',\n",
       " 'pruneDatasets',\n",
       " 'put',\n",
       " 'putDirect',\n",
       " 'registry',\n",
       " 'removeRuns',\n",
       " 'retrieveArtifacts',\n",
       " 'run',\n",
       " 'storageClasses',\n",
       " 'transaction',\n",
       " 'transfer_from',\n",
       " 'validateConfiguration']"
      ]
     },
     "execution_count": 3,
     "metadata": {},
     "output_type": "execute_result"
    }
   ],
   "source": [
    "dir(butler)"
   ]
  },
  {
   "cell_type": "code",
   "execution_count": 4,
   "id": "787282bc-28eb-4cea-b806-302f2420ee6e",
   "metadata": {},
   "outputs": [
    {
     "data": {
      "text/plain": [
       "\u001b[0;31mSignature:\u001b[0m\n",
       "\u001b[0mbutler\u001b[0m\u001b[0;34m.\u001b[0m\u001b[0mpruneDatasets\u001b[0m\u001b[0;34m(\u001b[0m\u001b[0;34m\u001b[0m\n",
       "\u001b[0;34m\u001b[0m    \u001b[0mrefs\u001b[0m\u001b[0;34m:\u001b[0m \u001b[0;34m'Iterable[DatasetRef]'\u001b[0m\u001b[0;34m,\u001b[0m\u001b[0;34m\u001b[0m\n",
       "\u001b[0;34m\u001b[0m    \u001b[0;34m*\u001b[0m\u001b[0;34m,\u001b[0m\u001b[0;34m\u001b[0m\n",
       "\u001b[0;34m\u001b[0m    \u001b[0mdisassociate\u001b[0m\u001b[0;34m:\u001b[0m \u001b[0;34m'bool'\u001b[0m \u001b[0;34m=\u001b[0m \u001b[0;32mTrue\u001b[0m\u001b[0;34m,\u001b[0m\u001b[0;34m\u001b[0m\n",
       "\u001b[0;34m\u001b[0m    \u001b[0munstore\u001b[0m\u001b[0;34m:\u001b[0m \u001b[0;34m'bool'\u001b[0m \u001b[0;34m=\u001b[0m \u001b[0;32mFalse\u001b[0m\u001b[0;34m,\u001b[0m\u001b[0;34m\u001b[0m\n",
       "\u001b[0;34m\u001b[0m    \u001b[0mtags\u001b[0m\u001b[0;34m:\u001b[0m \u001b[0;34m'Iterable[str]'\u001b[0m \u001b[0;34m=\u001b[0m \u001b[0;34m(\u001b[0m\u001b[0;34m)\u001b[0m\u001b[0;34m,\u001b[0m\u001b[0;34m\u001b[0m\n",
       "\u001b[0;34m\u001b[0m    \u001b[0mpurge\u001b[0m\u001b[0;34m:\u001b[0m \u001b[0;34m'bool'\u001b[0m \u001b[0;34m=\u001b[0m \u001b[0;32mFalse\u001b[0m\u001b[0;34m,\u001b[0m\u001b[0;34m\u001b[0m\n",
       "\u001b[0;34m\u001b[0m    \u001b[0mrun\u001b[0m\u001b[0;34m:\u001b[0m \u001b[0;34m'Optional[str]'\u001b[0m \u001b[0;34m=\u001b[0m \u001b[0;32mNone\u001b[0m\u001b[0;34m,\u001b[0m\u001b[0;34m\u001b[0m\n",
       "\u001b[0;34m\u001b[0m\u001b[0;34m)\u001b[0m \u001b[0;34m->\u001b[0m \u001b[0;34m'None'\u001b[0m\u001b[0;34m\u001b[0m\u001b[0;34m\u001b[0m\u001b[0m\n",
       "\u001b[0;31mDocstring:\u001b[0m\n",
       "Remove one or more datasets from a collection and/or storage.\n",
       "\n",
       "Parameters\n",
       "----------\n",
       "refs : `~collections.abc.Iterable` of `DatasetRef`\n",
       "    Datasets to prune.  These must be \"resolved\" references (not just\n",
       "    a `DatasetType` and data ID).\n",
       "disassociate : `bool`, optional\n",
       "    Disassociate pruned datasets from ``tags``, or from all collections\n",
       "    if ``purge=True``.\n",
       "unstore : `bool`, optional\n",
       "    If `True` (`False` is default) remove these datasets from all\n",
       "    datastores known to this butler.  Note that this will make it\n",
       "    impossible to retrieve these datasets even via other collections.\n",
       "    Datasets that are already not stored are ignored by this option.\n",
       "tags : `Iterable` [ `str` ], optional\n",
       "    `~CollectionType.TAGGED` collections to disassociate the datasets\n",
       "    from.  Ignored if ``disassociate`` is `False` or ``purge`` is\n",
       "    `True`.\n",
       "purge : `bool`, optional\n",
       "    If `True` (`False` is default), completely remove the dataset from\n",
       "    the `Registry`.  To prevent accidental deletions, ``purge`` may\n",
       "    only be `True` if all of the following conditions are met:\n",
       "\n",
       "     - All given datasets are in the given run.\n",
       "     - ``disassociate`` is `True`;\n",
       "     - ``unstore`` is `True`.\n",
       "\n",
       "    This mode may remove provenance information from datasets other\n",
       "    than those provided, and should be used with extreme care.\n",
       "\n",
       "Raises\n",
       "------\n",
       "TypeError\n",
       "    Raised if the butler is read-only, if no collection was provided,\n",
       "    or the conditions for ``purge=True`` were not met.\n",
       "\u001b[0;31mFile:\u001b[0m      /astro/store/epyc/projects/lsst_comm/lsstinstall/conda/envs/lsst-scipipe-2.0.0/share/eups/Linux64/daf_butler/g40211b77cd+1008d2a466/python/lsst/daf/butler/_butler.py\n",
       "\u001b[0;31mType:\u001b[0m      method\n"
      ]
     },
     "metadata": {},
     "output_type": "display_data"
    }
   ],
   "source": [
    "butler.pruneDatasets?"
   ]
  },
  {
   "cell_type": "code",
   "execution_count": 16,
   "id": "d3065991-1a60-4a86-a473-8f82c1db1ceb",
   "metadata": {},
   "outputs": [],
   "source": [
    "cam = butler.get(\n",
    "    \"camera\",\n",
    "    dataId={\"instrument\": \"LSSTCam\"},\n",
    "    collections=[\"LSSTCam/calib/unbounded\"],\n",
    ")"
   ]
  },
  {
   "cell_type": "code",
   "execution_count": 49,
   "id": "cb105cdd-e872-45b4-9cac-b8b8e6c901c6",
   "metadata": {},
   "outputs": [
    {
     "data": {
      "text/plain": [
       "True"
      ]
     },
     "execution_count": 49,
     "metadata": {},
     "output_type": "execute_result"
    }
   ],
   "source": [
    "cam[\"R04_SW1\"].getBBox().erodedBy(100).contains(4072-100-1, 2000-100-1)"
   ]
  },
  {
   "cell_type": "code",
   "execution_count": 44,
   "id": "f856a396-9335-4b47-99b0-532180b09dce",
   "metadata": {},
   "outputs": [
    {
     "data": {
      "text/plain": [
       "Box2I(corner=Point2I(100, 100), dimensions=Extent2I(3872, 1800))"
      ]
     },
     "execution_count": 44,
     "metadata": {},
     "output_type": "execute_result"
    }
   ],
   "source": [
    "cam[\"R04_SW1\"].getBBox().erodedBy(100)"
   ]
  },
  {
   "cell_type": "code",
   "execution_count": null,
   "id": "366f0f53-e176-4786-a672-ba299edf942d",
   "metadata": {},
   "outputs": [],
   "source": [
    "self._camera = self.butler.get(\n",
    "            \"camera\",\n",
    "            dataId={\"instrument\": \"LSSTCam\"},\n",
    "            collections=[\"LSSTCam/calib/unbounded\"],\n",
    "        )"
   ]
  }
 ],
 "metadata": {
  "kernelspec": {
   "display_name": "Python 3 (ipykernel)",
   "language": "python",
   "name": "python3"
  },
  "language_info": {
   "codemirror_mode": {
    "name": "ipython",
    "version": 3
   },
   "file_extension": ".py",
   "mimetype": "text/x-python",
   "name": "python",
   "nbconvert_exporter": "python",
   "pygments_lexer": "ipython3",
   "version": "3.8.12"
  }
 },
 "nbformat": 4,
 "nbformat_minor": 5
}
